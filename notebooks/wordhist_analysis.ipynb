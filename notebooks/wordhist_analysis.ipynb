{
 "cells": [
  {
   "cell_type": "code",
   "execution_count": 1,
   "id": "8114f1c4",
   "metadata": {},
   "outputs": [],
   "source": [
    "import numpy as np\n",
    "import pickle\n",
    "import os\n",
    "import pandas as pd\n",
    "\n",
    "EMBED_IDXS = range(1,300)\n",
    "\n",
    "BASEPATH = \"../resources/word_embeddings\"\n",
    "WORD_EMBEDDINGS_FILENAME_TEMPLATE = os.path.join(BASEPATH, \"{}-w.npy\")\n",
    "VOCAB_FILENAME_TEMPLATE = os.path.join(BASEPATH, \"{}-vocab.pkl\")\n",
    "startYear = 1800"
   ]
  },
  {
   "cell_type": "markdown",
   "id": "cfb62f3c",
   "metadata": {},
   "source": [
    "Load embeddings and vocabularies into a dictionary in the form of {'1800' : (embeddings, vocab), '1810': ...} :"
   ]
  },
  {
   "cell_type": "code",
   "execution_count": 2,
   "id": "ca45e9bd",
   "metadata": {},
   "outputs": [],
   "source": [
    "hist_embeddings = {}\n",
    "\n",
    "for year in [str(year) for year in range(startYear, 1991, 10)]:\n",
    "    word_embeddings_filename = WORD_EMBEDDINGS_FILENAME_TEMPLATE.format(year)\n",
    "    vocab_filename = VOCAB_FILENAME_TEMPLATE.format(year)\n",
    "    df = pd.DataFrame(np.load(word_embeddings_filename) )\n",
    "    df['word'] = pickle.load(open(vocab_filename, \"rb\"))\n",
    "    \n",
    "    #reorder so \"word\" is the first column\n",
    "    cols = df.columns.tolist()\n",
    "    cols = [cols[-1]] + cols[:-1]\n",
    "    df = df[cols]\n",
    "    hist_embeddings[year] = df"
   ]
  },
  {
   "cell_type": "markdown",
   "id": "38f1e87b",
   "metadata": {},
   "source": [
    "Validate that the sets of vocabularies are equal for all decades:"
   ]
  },
  {
   "cell_type": "code",
   "execution_count": 3,
   "id": "eb13c7cc",
   "metadata": {},
   "outputs": [
    {
     "data": {
      "text/plain": [
       "True"
      ]
     },
     "execution_count": 3,
     "metadata": {},
     "output_type": "execute_result"
    }
   ],
   "source": [
    "dicts = [set(p[\"word\"]) for p in hist_embeddings.values()]\n",
    "bools = []\n",
    "for indivDict in dicts:\n",
    "    bools.append(set(indivDict) == set(dicts[0]))\n",
    "        \n",
    "all(bools)"
   ]
  },
  {
   "cell_type": "markdown",
   "id": "ff129d71",
   "metadata": {},
   "source": [
    "Inspecting the embeddings manually for certain decades shows that the embeddings of many words appear to consist entirely of zeros. This is probably because these words were discarded due to being infrequent: *\"During model learning we also discarded all words within a year that occurred below a certain threshold (500 for the Google data, ...)\"*\n",
    "\n",
    "Counting the nonzero rows for each decade shows that the number of nonzero rows decreases with the decades i.e there are ~70k such rows for 1990 and ~13k for 1800.  "
   ]
  },
  {
   "cell_type": "code",
   "execution_count": 4,
   "id": "04a245f8",
   "metadata": {},
   "outputs": [
    {
     "data": {
      "text/plain": [
       "{'1800': 13045,\n",
       " '1810': 15771,\n",
       " '1820': 20312,\n",
       " '1830': 21691,\n",
       " '1840': 23818,\n",
       " '1850': 29035,\n",
       " '1860': 27191,\n",
       " '1870': 29320,\n",
       " '1880': 34081,\n",
       " '1890': 37729,\n",
       " '1900': 41551,\n",
       " '1910': 36553,\n",
       " '1920': 35643,\n",
       " '1930': 34477,\n",
       " '1940': 34226,\n",
       " '1950': 41807,\n",
       " '1960': 54332,\n",
       " '1970': 60344,\n",
       " '1980': 64934,\n",
       " '1990': 71097}"
      ]
     },
     "execution_count": 4,
     "metadata": {},
     "output_type": "execute_result"
    }
   ],
   "source": [
    "nonzero_wordcounts = {}\n",
    "\n",
    "for year in hist_embeddings.keys():\n",
    "    emb = hist_embeddings[year][EMBED_IDXS]\n",
    "    row_sums = np.sum(emb, axis=1)\n",
    "    num_nonzero_rows = np.count_nonzero(row_sums != 0)\n",
    "    nonzero_wordcounts[year] = num_nonzero_rows\n",
    "    \n",
    "nonzero_wordcounts"
   ]
  },
  {
   "cell_type": "markdown",
   "id": "7ae76706",
   "metadata": {},
   "source": [
    "The fact that for earlier time periods, embeddings for many words are missing, poses the question of how many words there are that have word-embeddings available for all decades. Fortunatelly, it seems that most words available in 1800 are also available in all other decades (12748 out of 13045) :"
   ]
  },
  {
   "cell_type": "code",
   "execution_count": 5,
   "id": "9b6afc10",
   "metadata": {},
   "outputs": [
    {
     "name": "stdout",
     "output_type": "stream",
     "text": [
      "All decades share same dictionary: True\n",
      "Size of that shared dictionary: 12748\n"
     ]
    }
   ],
   "source": [
    "#build vocab of words that are non-zero over all decades\n",
    "vocabs_decades = {}\n",
    "for year in hist_embeddings.keys():  \n",
    "    nonzero_indices_startYear = np.where(np.sum(hist_embeddings[year][EMBED_IDXS], axis=1) != 0)[0]\n",
    "    nonzero_vocab_startYear = [hist_embeddings[year][\"word\"][i] for i in nonzero_indices_startYear]\n",
    "    vocabs_decades[year] = set(nonzero_vocab_startYear)\n",
    "    \n",
    "vocab_fully_available = set.intersection(*vocabs_decades.values())\n",
    "\n",
    "#filter and keep only words in the combined vocab\n",
    "for year in hist_embeddings.keys():    \n",
    "    hist_embeddings[year] = hist_embeddings[year].loc[hist_embeddings[year][\"word\"].isin(vocab_fully_available)]\n",
    "    hist_embeddings[year] = hist_embeddings[year].sort_values(by = \"word\")\n",
    "\n",
    "#check if everything worked\n",
    "dicts = [set(p[\"word\"]) for p in hist_embeddings.values()]\n",
    "bools = []\n",
    "for indivDict in dicts:\n",
    "    bools.append(set(indivDict) == set(dicts[0]))\n",
    "        \n",
    "print(\"All decades share same dictionary:\" , all(bools))\n",
    "print(\"Size of that shared dictionary:\", len(hist_embeddings['1800']))"
   ]
  },
  {
   "cell_type": "markdown",
   "id": "ceb3353a",
   "metadata": {},
   "source": [
    "Saving the dictionary containing only the fully-available years starting from startYear to disk for later use:"
   ]
  },
  {
   "cell_type": "code",
   "execution_count": 6,
   "id": "686f29c3",
   "metadata": {},
   "outputs": [],
   "source": [
    "outpath = os.path.join(BASEPATH, ('histWord_fullAvail_' + str(startYear) + '.pickle'))\n",
    "with open(outpath, 'wb') as f:\n",
    "    pickle.dump(hist_embeddings, f)"
   ]
  },
  {
   "cell_type": "code",
   "execution_count": null,
   "id": "87e1bb09",
   "metadata": {},
   "outputs": [],
   "source": []
  }
 ],
 "metadata": {
  "kernelspec": {
   "display_name": "Python 3 (ipykernel)",
   "language": "python",
   "name": "python3"
  },
  "language_info": {
   "codemirror_mode": {
    "name": "ipython",
    "version": 3
   },
   "file_extension": ".py",
   "mimetype": "text/x-python",
   "name": "python",
   "nbconvert_exporter": "python",
   "pygments_lexer": "ipython3",
   "version": "3.10.11"
  }
 },
 "nbformat": 4,
 "nbformat_minor": 5
}
